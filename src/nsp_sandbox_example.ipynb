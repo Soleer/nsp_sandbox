{
 "cells": [
  {
   "cell_type": "code",
   "execution_count": 1,
   "metadata": {},
   "outputs": [],
   "source": [
    "import nsp_sandbox.NSP_builder as b\n",
    "import matplotlib.pyplot as plt\n",
    "import numpy as np\n",
    "from scipy import signal\n",
    "import gurobipy as gp\n",
    "from apq import KeyedPQ"
   ]
  },
  {
   "cell_type": "code",
   "execution_count": 2,
   "metadata": {},
   "outputs": [
    {
     "name": "stdout",
     "output_type": "stream",
     "text": [
      "Set parameter Username\n",
      "Academic license - for non-commercial use only - expires 2023-06-29\n"
     ]
    },
    {
     "name": "stderr",
     "output_type": "stream",
     "text": [
      "/Users/niklaswunstel/semester/Masterarbeit/Code/nsp_sandbox/src/nsp_sandbox/NSP_builder.py:162: RuntimeWarning: covariance is not positive-semidefinite.\n",
      "  self.job_skill_prob = np.random.multivariate_normal(mean=self.job_skill_exp,cov=self.job_skill_cov,size=self.n_nurses)\n"
     ]
    }
   ],
   "source": [
    "builder = b.NSPbuilder(20,4,10)\n",
    "builder.gen_demand()\n",
    "builder.gen_skills()\n",
    "builder.gen_prefs()\n",
    "builder.gen_preplan()\n",
    "builder.gen_wishes()\n",
    "builder.gen_rotations()\n",
    "builder.gen_shift_patterns()\n",
    "builder.create()"
   ]
  },
  {
   "cell_type": "code",
   "execution_count": 3,
   "metadata": {},
   "outputs": [],
   "source": [
    "builder.add_model_constraints()"
   ]
  },
  {
   "cell_type": "code",
   "execution_count": 4,
   "metadata": {},
   "outputs": [],
   "source": [
    "builder.init_objective()"
   ]
  },
  {
   "cell_type": "code",
   "execution_count": 5,
   "metadata": {},
   "outputs": [
    {
     "name": "stdout",
     "output_type": "stream",
     "text": [
      "Warning: linear constraint 3336 and linear constraint 3362 have the same name \"standortwechsel_weg_von_2_0_0\"\n"
     ]
    }
   ],
   "source": [
    "builder.model.write('nsp_sandbox_example.lp')"
   ]
  },
  {
   "cell_type": "code",
   "execution_count": 2,
   "metadata": {},
   "outputs": [
    {
     "data": {
      "text/plain": [
       "1"
      ]
     },
     "execution_count": 2,
     "metadata": {},
     "output_type": "execute_result"
    }
   ],
   "source": [
    "test = (1,2)\n",
    "d = {\n",
    "}\n",
    "d[test] = 1\n",
    "d[test]"
   ]
  },
  {
   "cell_type": "code",
   "execution_count": 16,
   "metadata": {},
   "outputs": [],
   "source": [
    "x = np.ones((10,10))\n",
    "y = np.ones((10,10))\n",
    "k = np.ones((5,10))\n",
    "padding = 2\n",
    "\n",
    "def apply_before_after(k,x,y,padding,d):\n",
    "    s = 0\n",
    "    print(d)\n",
    "    if d-padding<0:\n",
    "        assert(k[:padding-d,:].shape ==  y[d-padding:,:].shape)\n",
    "        assert(k[padding-d:,:].shape ==  x[:d+padding+1,:].shape)\n",
    "    elif d + padding >= x.shape[0]:\n",
    "        assert(k[d-padding-x.shape[0]:,:].shape == x[d-padding:,:].shape)\n",
    "        assert(k[:d-padding-x.shape[0],:].shape ==y[:d+padding-x.shape[0]+1,:].shape)\n",
    "    else:\n",
    "        assert(k.shape == x[d-padding:d+padding+1,:].shape)\n",
    "\n"
   ]
  },
  {
   "cell_type": "code",
   "execution_count": 17,
   "metadata": {},
   "outputs": [
    {
     "name": "stdout",
     "output_type": "stream",
     "text": [
      "0\n",
      "1\n",
      "2\n",
      "3\n",
      "4\n",
      "5\n",
      "6\n",
      "7\n",
      "8\n",
      "9\n"
     ]
    }
   ],
   "source": [
    "for d in range(x.shape[0]):\n",
    "    apply_before_after(k,x,y,padding,d)"
   ]
  },
  {
   "cell_type": "code",
   "execution_count": 5,
   "metadata": {},
   "outputs": [
    {
     "name": "stdout",
     "output_type": "stream",
     "text": [
      "(150, 60, 60)\n"
     ]
    }
   ],
   "source": [
    "import numpy as np\n",
    "S = np.transpose(builder.S)\n",
    "res = np.apply_along_axis(lambda x : np.outer(x,x),1, S)\n",
    "print( res.shape)\n",
    "total_skill_count = np.sum(res,0)\n",
    "total_probs = np.diag(total_skill_count)/S.shape[0]"
   ]
  },
  {
   "cell_type": "code",
   "execution_count": 6,
   "metadata": {},
   "outputs": [
    {
     "name": "stdout",
     "output_type": "stream",
     "text": [
      "0.42566666666666675\n",
      "0.03166225988700565\n"
     ]
    }
   ],
   "source": [
    "mean = np.mean(total_probs)\n",
    "var = np.cov(total_probs)\n",
    "print(mean)\n",
    "print(var)"
   ]
  },
  {
   "cell_type": "code",
   "execution_count": 7,
   "metadata": {},
   "outputs": [
    {
     "data": {
      "text/plain": [
       "<matplotlib.image.AxesImage at 0x12675cb20>"
      ]
     },
     "execution_count": 7,
     "metadata": {},
     "output_type": "execute_result"
    },
    {
     "data": {
      "image/png": "[encoded data removed]",
      "text/plain": [
       "<Figure size 432x288 with 1 Axes>"
      ]
     },
     "metadata": {
      "needs_background": "light"
     },
     "output_type": "display_data"
    }
   ],
   "source": [
    "probs = np.array([total_skill_count[s] / builder.n_nurses for s in range(total_skill_count.shape[0])])\n",
    "plt.imshow(probs)"
   ]
  },
  {
   "cell_type": "code",
   "execution_count": 8,
   "metadata": {},
   "outputs": [
    {
     "name": "stdout",
     "output_type": "stream",
     "text": [
      "0.3914020733742455\n",
      "0.015263840313770163\n",
      "(60,)\n",
      "(60, 60)\n",
      "(150, 60)\n"
     ]
    }
   ],
   "source": [
    "print(np.mean(builder.job_skill_exp))\n",
    "print(np.mean(builder.job_skill_cov))\n",
    "print(builder.job_skill_exp.shape)\n",
    "print(builder.job_skill_cov.shape)\n",
    "print(builder.job_skill_prob.shape)"
   ]
  },
  {
   "cell_type": "code",
   "execution_count": 9,
   "metadata": {},
   "outputs": [
    {
     "name": "stdout",
     "output_type": "stream",
     "text": [
      "0.005783041148775894\n",
      "1.5300870333337317e-05\n",
      "0.008025445699937225\n",
      "3.503256132644821e-05\n"
     ]
    },
    {
     "data": {
      "image/png": "[encoded data removed]",
      "text/plain": [
       "<Figure size 432x288 with 1 Axes>"
      ]
     },
     "metadata": {
      "needs_background": "light"
     },
     "output_type": "display_data"
    }
   ],
   "source": [
    "cov = np.cov(probs)\n",
    "plt.imshow(cov)\n",
    "cov_mean = np.mean(cov.flatten())\n",
    "cov_var = np.cov(cov.flatten())\n",
    "print(cov_mean)\n",
    "print(cov_var)\n",
    "cov_mean = np.mean(np.diag(cov))\n",
    "cov_var = np.cov(np.diag(cov))\n",
    "print(cov_mean)\n",
    "print(cov_var)"
   ]
  },
  {
   "cell_type": "code",
   "execution_count": 10,
   "metadata": {},
   "outputs": [
    {
     "data": {
      "image/png": "[encoded data removed]",
      "text/plain": [
       "<Figure size 432x288 with 1 Axes>"
      ]
     },
     "metadata": {
      "needs_background": "light"
     },
     "output_type": "display_data"
    }
   ],
   "source": [
    "plt.plot(np.sort(probs.flatten()))\n",
    "plt.show()"
   ]
  },
  {
   "cell_type": "code",
   "execution_count": 19,
   "metadata": {},
   "outputs": [
    {
     "name": "stdout",
     "output_type": "stream",
     "text": [
      "0.008521443607449258\n",
      "0.009005503029052151\n"
     ]
    }
   ],
   "source": [
    "cov_diag = np.diag(cov)\n",
    "diag_mean = np.mean(cov_diag)\n",
    "diag_std = np.std(cov_diag)\n",
    "print(diag_mean)\n",
    "print(diag_std)"
   ]
  }
 ],
 "metadata": {
  "kernelspec": {
   "display_name": "Python 3.9.12 ('base')",
   "language": "python",
   "name": "python3"
  },
  "language_info": {
   "codemirror_mode": {
    "name": "ipython",
    "version": 3
   },
   "file_extension": ".py",
   "mimetype": "text/x-python",
   "name": "python",
   "nbconvert_exporter": "python",
   "pygments_lexer": "ipython3",
   "version": "3.9.12"
  },
  "orig_nbformat": 4,
  "vscode": {
   "interpreter": {
    "hash": "cc76b683d7eec6697b4217d367498b78f78fd8fd3b2c649627d1e0ea4e0d510b"
   }
  }
 },
 "nbformat": 4,
 "nbformat_minor": 2
}
